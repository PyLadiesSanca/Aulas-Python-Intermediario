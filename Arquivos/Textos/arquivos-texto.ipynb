{
 "cells": [
  {
   "cell_type": "code",
   "execution_count": null,
   "metadata": {},
   "outputs": [],
   "source": [
    "#Criando um arquivo \n",
    "file_test1 = open('/home/thayana/Documentos/Python_Interm/teste1.txt', 'w')\n",
    "print(file_test1)\n",
    "file_test1.close()\n"
   ]
  },
  {
   "cell_type": "code",
   "execution_count": null,
   "metadata": {},
   "outputs": [],
   "source": [
    "#Lendo um arquivo \n",
    "file_test2 = open('/home/thayana/Documentos/Python_Interm/nomes.txt', 'r')\n",
    "print(file_test2)\n",
    "file_test2.close()\n"
   ]
  },
  {
   "cell_type": "code",
   "execution_count": null,
   "metadata": {},
   "outputs": [],
   "source": [
    "#Imprimindo linha por linha\n",
    "file_test = open('/home/thayana/Documentos/Python_Interm/nomes.txt', 'r')\n",
    "for linha in file_test:\n",
    "    print(linha)\n",
    "file_test.close()\n"
   ]
  },
  {
   "cell_type": "code",
   "execution_count": null,
   "metadata": {},
   "outputs": [],
   "source": [
    "#Lista por linha\n",
    "file_test = open('/home/thayana/Documentos/Python_Interm/nomes.txt', 'r')\n",
    "for linha in file_test:\n",
    "    valores = linha.split() #uma lista por linha com as strings como elementos\n",
    "    print(valores)\n",
    "file_test.close()\n"
   ]
  },
  {
   "cell_type": "code",
   "execution_count": null,
   "metadata": {},
   "outputs": [],
   "source": [
    "#Lendo arquivo fasta e contando nucleotídeos\n",
    "file_test = open('/home/thayana/Documentos/Python_Interm/sequenciaDNA.txt', 'r')\n",
    "\n",
    "A,C,G,T=0,0,0,0\n",
    "for linha in file_test:\n",
    "    if not linha.startswith('>'):\n",
    "        for letra in linha:\n",
    "            A += letra.count('A')\n",
    "            C += linha.count('C')\n",
    "            T += linha.count('T')\n",
    "            G += linha.count('G')                \n",
    "print(A,C,T,G)\n",
    "file_test.close()\n"
   ]
  },
  {
   "cell_type": "code",
   "execution_count": null,
   "metadata": {},
   "outputs": [],
   "source": [
    "#Criando e escrevendo em um arquivo\n",
    "file_test = open('/home/thayana/Documentos/Python_Interm/poema_reivencao.txt', 'w')\n",
    "file_test.write('''A vida só é possível reinventada\n",
    "Anda o sol pelas campinas\n",
    "e passeia a mão dourada\n",
    "pelas águas, pelas folhas...\n",
    "Ah! tudo bolhas\n",
    "que vem de fundas piscinas\n",
    "de ilusionismo... — mais nada.\n",
    "\n",
    "Cecília Meireles''')\n",
    "file_test.close()\n"
   ]
  },
  {
   "cell_type": "code",
   "execution_count": null,
   "metadata": {},
   "outputs": [],
   "source": [
    "#Mostrando primeira linha do arquivo\n",
    "file_test = open('/home/thayana/Documentos/Python_Interm/poema_reivencao.txt', 'r')\n",
    "linha = file_test.readline()\n",
    "print(linha)\n",
    "file_test.close()\n"
   ]
  },
  {
   "cell_type": "code",
   "execution_count": null,
   "metadata": {},
   "outputs": [],
   "source": [
    "#Criando uma lista gigante com as linhas como item\n",
    "file_test = open('/home/thayana/Documentos/Python_Interm/poema_reivencao.txt', 'r')\n",
    "linhas = file_test.readlines(500)\n",
    "print(linhas)\n",
    "file_test.close()\n"
   ]
  },
  {
   "cell_type": "code",
   "execution_count": null,
   "metadata": {},
   "outputs": [],
   "source": [
    "#Lendo um arquivo e inserindo uma linha\n",
    "file_test = open('/home/thayana/Documentos/Python_Interm/nomes.txt', 'r')\n",
    "linhas = file_test.readlines()\n",
    "linhas.insert(1, \"Thayana Tavares \\n\")\n",
    "print(linhas)\n",
    "file_test.close()\n",
    "\n",
    "file_test1 = open('/home/thayana/Documentos/Python_Interm/nomes.txt', 'w')\n",
    "file_test1.writelines(linhas)\n",
    "file_test1.close()\n",
    "\n",
    "\n",
    "\n"
   ]
  },
  {
   "cell_type": "code",
   "execution_count": null,
   "metadata": {},
   "outputs": [],
   "source": [
    "#Lendo as linhas em apenas uma string\n",
    "file_test = open('/home/thayana/Documentos/Python_Interm/notas.txt', 'r')\n",
    "linhas = file_test.read()\n",
    "print(linhas)\n",
    "file_test.close()\n"
   ]
  },
  {
   "cell_type": "code",
   "execution_count": null,
   "metadata": {},
   "outputs": [],
   "source": [
    "#Lendo arquivo com comendo with\n",
    "file_test = open('/home/thayana/Documentos/Python_Interm/pyladiesbrasil.txt', 'r')\n",
    "linhas = file_test.readlines()\n",
    "linhas.append('Criado por PyLadies Brasil <<3')\n",
    "\n",
    "with open('/home/thayana/Documentos/Python_Interm/pyladiesbrasil.txt', 'w') as file_test1:\n",
    "    file_test1.writelines(linhas)\n"
   ]
  },
  {
   "cell_type": "code",
   "execution_count": null,
   "metadata": {},
   "outputs": [],
   "source": [
    "#Exercício 1\n",
    "alunas = dict()\n",
    "with open('/home/thayana/Documentos/Python_Interm/notas.txt', 'r') as arquivo_notas:\n",
    "    for linha in arquivo_notas:\n",
    "        valores = linha.split()\n",
    "        alunas[valores[0]] = valores[1:4]\n",
    "\n",
    "nome_aluna = input('Digite o nome da aluna: ')\n",
    "print(f'Notas da {nome_aluna}: {alunas[nome_aluna]}')\n",
    "\n"
   ]
  },
  {
   "cell_type": "code",
   "execution_count": null,
   "metadata": {},
   "outputs": [],
   "source": [
    "#Exercício 2\n",
    "alunas = dict()\n",
    "with open('/home/thayana/Documentos/Python_Interm/notas.txt', 'r') as arquivo_notas:\n",
    "    for linha in arquivo_notas:\n",
    "        valores = linha.split()\n",
    "        notas_int = [float(notas) for notas in valores[1:4]]\n",
    "        alunas[valores[0]] = notas_int\n",
    "\n",
    "nome_aluna = input('Digite o nome da aluna: ')\n",
    "\n",
    "media = sum(alunas[nome_aluna])/3\n",
    "\n",
    "if media>=6:\n",
    "   print(\"Aprovada!\")\n",
    "else:\n",
    "   print(\"Reprovada!\")\n",
    "\n"
   ]
  }
 ],
 "metadata": {
  "kernelspec": {
   "display_name": "Python 3",
   "language": "python",
   "name": "python3"
  },
  "language_info": {
   "codemirror_mode": {
    "name": "ipython",
    "version": 3
   },
   "file_extension": ".py",
   "mimetype": "text/x-python",
   "name": "python",
   "nbconvert_exporter": "python",
   "pygments_lexer": "ipython3",
   "version": "3.6.9"
  }
 },
 "nbformat": 4,
 "nbformat_minor": 2
}
